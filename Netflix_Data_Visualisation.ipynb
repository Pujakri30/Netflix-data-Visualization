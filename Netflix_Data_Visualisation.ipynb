{
 "cells": [
  {
   "cell_type": "code",
   "execution_count": null,
   "id": "e274257d-e0e0-48e0-8fc9-c18609cd40b4",
   "metadata": {},
   "outputs": [],
   "source": [
    "# s-1 import the libraries \n",
    "import pandas as pd \n",
    "import matplotlib.pyplot as plt \n",
    "\n",
    "#load the data \n",
    "df = pd.read_csv(r\"C:\\Users\\asus\\Downloads\\netflix_titles (2)\\netflix_titles (2).csv\")\n",
    "\n",
    "#clean data \n",
    "df= df.dropna(subset=['type','release_year','rating','country','duration'])\n",
    "\n",
    "type_counts = df['type'].value_counts()\n",
    "plt.figure(figsize=(6,4))\n",
    "plt.bar(type_counts.index, type_counts.values,color=['skyblue','orange'])\n",
    "plt.title('Number of Movies VS TV Shows on Netflix')\n",
    "plt.xlabel('Type')\n",
    "plt.ylabel('Count')\n",
    "plt.tight_layout()\n",
    "plt.savefig('movies_vs_tvshows.png')\n",
    "plt.show()\n",
    "\n",
    "\n",
    "rating_counts = df['rating'].value_counts()\n",
    "plt.figure(figsize=(8,6))\n",
    "plt.pie(rating_counts, labels=rating_counts.index, autopct='%1.1f%%',startangle=90)\n",
    "plt.title('Percentage of content Ratings')\n",
    "plt.tight_layout()\n",
    "plt.savefig('content_Ratings_pie.png')\n",
    "plt.show()\n",
    "\n",
    "movie_df = df[df['type'] == 'Movie'].copy()\n",
    "movie_df['duration_int'] = movie_df['duration'].str.replace(' min','').astype(int)\n",
    "\n",
    "plt.figure(figsize=(8,6))\n",
    "plt.hist(movie_df['duration_int'], bins=30, color='purple', edgecolor='black')\n",
    "plt.title('Distribution of Movie Duration')\n",
    "plt.xlabel('Duration (minutes)')\n",
    "plt.ylabel('Number of Movies')\n",
    "plt.tight_layout()\n",
    "plt.savefig('movies_duration_histogram.png')\n",
    "plt.show()\n",
    "\n",
    "release_counts = df['release_year'].value_counts().sort_index()\n",
    "plt.figure(figsize=(10,6))\n",
    "plt.scatter(release_counts.index, release_counts.values, color='red')\n",
    "plt.title('Release Year VS Number of Shows')"
   ]
  }
 ],
 "metadata": {
  "kernelspec": {
   "display_name": "Python 3 (ipykernel)",
   "language": "python",
   "name": "python3"
  },
  "language_info": {
   "codemirror_mode": {
    "name": "ipython",
    "version": 3
   },
   "file_extension": ".py",
   "mimetype": "text/x-python",
   "name": "python",
   "nbconvert_exporter": "python",
   "pygments_lexer": "ipython3",
   "version": "3.13.5"
  }
 },
 "nbformat": 4,
 "nbformat_minor": 5
}
